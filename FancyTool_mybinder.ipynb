{
 "cells": [
  {
   "cell_type": "markdown",
   "metadata": {},
   "source": [
    "# Nbextension Introduction\n",
    "- community-contributed and maintained plug-ins to the Jupyter notebook\n",
    "\n",
    "\n",
    "**Installation:**\n",
    "\n",
    "```bash\n",
    "conda install -c conda-forge jupyter_contrib_nbextensions\n",
    "conda install -c conda-forge jupyter_nbextensions_configurator\n",
    "```\n"
   ]
  },
  {
   "cell_type": "markdown",
   "metadata": {},
   "source": [
    "# bqplot: Complex Interactive Visualizations\n",
    "\n",
    "- https://github.com/bloomberg/bqplot\n",
    "\n",
    "\n",
    "bqplot is a jupyter interactive widget library bringing d3.js visualization to the Jupyter notebook.\n",
    "\n",
    "bqplot provides both\n",
    "-\thigh-level plotting procedures with relevant defaults for common chart types,\n",
    "-\tlower-level descriptions of data visualizations meant for complex interactive visualization dashboards and applications involving mouse interactions and user-provided Python callbacks.\n",
    "\n",
    "**Installation:**\n",
    "\n",
    "```bash\n",
    "conda install -c conda-forge bqplot\n",
    "```"
   ]
  },
  {
   "cell_type": "code",
   "execution_count": 1,
   "metadata": {},
   "outputs": [],
   "source": [
    "from __future__ import print_function\n",
    "from IPython.display import display\n",
    "from ipywidgets import *\n",
    "from traitlets import *\n",
    "\n",
    "import numpy as np\n",
    "import pandas as pd"
   ]
  },
  {
   "cell_type": "code",
   "execution_count": 2,
   "metadata": {},
   "outputs": [],
   "source": [
    "from bqplot import DateScale, LinearScale, Axis, Lines, Figure\n",
    "from bqplot.interacts import (FastIntervalSelector, IndexSelector)\n",
    "\n",
    "from traitlets import link\n",
    "\n",
    "from ipywidgets import ToggleButtons, VBox, HTML"
   ]
  },
  {
   "cell_type": "raw",
   "metadata": {},
   "source": [
    "import yfinance as yf\n",
    "df_aapl=yf.download('AAPL',start='2020-02-01',end='2021-04-15',progress=False,auto_adjust=True)\n",
    "df_dis=yf.download('DIS',start='2020-02-01',end='2021-04-15',progress=False,auto_adjust=True)"
   ]
  },
  {
   "cell_type": "raw",
   "metadata": {},
   "source": [
    "df_price=pd.concat([df_aapl['Close'],df_dis['Close']],axis=1)\n",
    "df_price.columns=['AAPL','DIS']\n",
    "df_price.head()"
   ]
  },
  {
   "cell_type": "raw",
   "metadata": {},
   "source": [
    "df_price.to_csv('Stock.csv',index=True)"
   ]
  },
  {
   "cell_type": "code",
   "execution_count": 3,
   "metadata": {},
   "outputs": [],
   "source": [
    "price_data=pd.read_csv('Stock.csv')\n",
    "\n",
    "symbol='AAPL'\n",
    "dates_actual = pd.to_datetime(price_data['Date']).dt.normalize().values\n",
    "aaplprices = price_data[symbol].values\n",
    "disprices=price_data['DIS'].values\n",
    "#price_data2.columns=['AAPL','DIS']"
   ]
  },
  {
   "cell_type": "markdown",
   "metadata": {},
   "source": [
    "## Interval Selector"
   ]
  },
  {
   "cell_type": "code",
   "execution_count": 4,
   "metadata": {},
   "outputs": [],
   "source": [
    "dt_x_fast = DateScale()\n",
    "lin_y = LinearScale()\n",
    "\n",
    "x_ax = Axis(label='Date', scale=dt_x_fast)\n",
    "x_ay = Axis(label='Price', scale=lin_y, orientation='vertical')\n",
    "AAPL = Lines(x=dates_actual, y=aaplprices, scales={'x': dt_x_fast, 'y': lin_y}, colors=['orange'],labels=['AAPL'],display_legend=True)\n",
    "DIS = Lines(x=dates_actual, y=disprices, scales={'x': dt_x_fast, 'y': lin_y}, colors=['blue'],labels=['DIS'],display_legend=True)"
   ]
  },
  {
   "cell_type": "code",
   "execution_count": 5,
   "metadata": {},
   "outputs": [],
   "source": [
    "intsel_fast = FastIntervalSelector(scale=dt_x_fast, marks=[AAPL])"
   ]
  },
  {
   "cell_type": "code",
   "execution_count": 6,
   "metadata": {},
   "outputs": [],
   "source": [
    "def fast_interval_change_callback(change):\n",
    "    db_fast.value = 'The selected period is ' + str(change.new)\n",
    "intsel_fast.observe(fast_interval_change_callback, names=['selected'])"
   ]
  },
  {
   "cell_type": "code",
   "execution_count": 7,
   "metadata": {
    "scrolled": false
   },
   "outputs": [
    {
     "data": {
      "application/vnd.jupyter.widget-view+json": {
       "model_id": "3b4b88890ac64a428d2857998cd98e9e",
       "version_major": 2,
       "version_minor": 0
      },
      "text/plain": [
       "VBox(children=(HTML(value='The selected period is None'), Figure(axes=[Axis(label='Date', scale=DateScale(), s…"
      ]
     },
     "metadata": {},
     "output_type": "display_data"
    }
   ],
   "source": [
    "db_fast = HTML()\n",
    "db_fast.value = 'The selected period is ' + str(intsel_fast.selected)\n",
    "\n",
    "fig_fast_intsel = Figure(marks=[AAPL,DIS], axes=[x_ax, x_ay], title='Stock Prices',legend_location='bottom',\n",
    "                         interaction=intsel_fast) #This is where we assign the interaction to this particular Figure\n",
    "\n",
    "VBox([db_fast, fig_fast_intsel])"
   ]
  },
  {
   "cell_type": "markdown",
   "metadata": {},
   "source": [
    "## Index Selector"
   ]
  },
  {
   "cell_type": "code",
   "execution_count": 8,
   "metadata": {},
   "outputs": [],
   "source": [
    "db_index = HTML(value='[]')\n",
    "index_sel = IndexSelector(scale=dt_x_fast, marks=[AAPL, DIS])"
   ]
  },
  {
   "cell_type": "code",
   "execution_count": 9,
   "metadata": {},
   "outputs": [],
   "source": [
    "def index_change_callback(change):\n",
    "    db_index.value = 'The selected date is ' + str(change.new)"
   ]
  },
  {
   "cell_type": "code",
   "execution_count": 10,
   "metadata": {},
   "outputs": [],
   "source": [
    "index_sel.observe(index_change_callback, names=['selected'])\n"
   ]
  },
  {
   "cell_type": "code",
   "execution_count": 11,
   "metadata": {},
   "outputs": [
    {
     "data": {
      "application/vnd.jupyter.widget-view+json": {
       "model_id": "7d24a349f5a94ca29956cdb5316d3b11",
       "version_major": 2,
       "version_minor": 0
      },
      "text/plain": [
       "VBox(children=(HTML(value='[]'), Figure(axes=[Axis(label='Date', scale=DateScale(), side='bottom'), Axis(label…"
      ]
     },
     "metadata": {},
     "output_type": "display_data"
    }
   ],
   "source": [
    "fig_index_sel = Figure(marks=[AAPL, DIS], axes=[x_ax, x_ay], title='Index Selector Example',legend_location='top-left',\n",
    "                       interaction=index_sel)\n",
    "VBox([db_index, fig_index_sel])\n"
   ]
  }
 ],
 "metadata": {
  "kernelspec": {
   "display_name": "widgets-tutorial",
   "language": "python",
   "name": "widgets-tutorial"
  },
  "language_info": {
   "codemirror_mode": {
    "name": "ipython",
    "version": 3
   },
   "file_extension": ".py",
   "mimetype": "text/x-python",
   "name": "python",
   "nbconvert_exporter": "python",
   "pygments_lexer": "ipython3",
   "version": "3.8.8"
  },
  "toc": {
   "base_numbering": 1,
   "nav_menu": {},
   "number_sections": true,
   "sideBar": true,
   "skip_h1_title": false,
   "title_cell": "Table of Contents",
   "title_sidebar": "Contents",
   "toc_cell": false,
   "toc_position": {},
   "toc_section_display": true,
   "toc_window_display": true
  },
  "widgets": {
   "state": {
    "0ba98b0561564e5987dba19d1b574c04": {
     "views": [
      {
       "cell_index": 29
      }
     ]
    },
    "1ffa1ac6658e4eef89e45cf62daae339": {
     "views": [
      {
       "cell_index": 30
      }
     ]
    },
    "42735872becb4c43b817ccff90973d63": {
     "views": [
      {
       "cell_index": 15
      }
     ]
    },
    "4b9a5b18593545faba761a719b2e6039": {
     "views": [
      {
       "cell_index": 17
      }
     ]
    },
    "7fb14b25d15240ec820c565619fe4f11": {
     "views": [
      {
       "cell_index": 7
      }
     ]
    },
    "99604f1b70c54e19a508c95d705ce488": {
     "views": [
      {
       "cell_index": 9
      }
     ]
    },
    "bf805af773d94496888afbe9e2bd3d37": {
     "views": [
      {
       "cell_index": 13
      }
     ]
    },
    "dc1b84a0e5fa4ed5a42454cfc52c44f5": {
     "views": [
      {
       "cell_index": 25
      }
     ]
    },
    "f30275bcf69e426c9d45a525833198d0": {
     "views": [
      {
       "cell_index": 5
      }
     ]
    }
   },
   "version": "2.0.0-dev"
  }
 },
 "nbformat": 4,
 "nbformat_minor": 4
}
